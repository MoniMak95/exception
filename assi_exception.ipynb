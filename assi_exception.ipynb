{
 "cells": [
  {
   "cell_type": "markdown",
   "id": "78d9db41",
   "metadata": {},
   "source": [
    "##write a function that converts a temperature from degrees Kelvin to degrees Fahrenheit. Since zero degrees Kelvin is as cold as it gets, the function bails out if it sees a negative temperature.\n",
    "\n",
    "Write a exception in this case"
   ]
  },
  {
   "cell_type": "code",
   "execution_count": null,
   "id": "e53649db",
   "metadata": {},
   "outputs": [],
   "source": [
    "kelvin = int(input(\"Enter the degree in kelvin:  \"))\n",
    "cut_off = 0\n",
    "def kelvinToFahrenheit(kelvin):\n",
    "    return kelvin * 1.8 - 459.67\n",
    "far = kelvinToFahrenheit(kelvin)\n",
    " \n",
    "print(far)\n",
    "\n",
    "try: \n",
    "    if far<=cut_off:\n",
    "        print(\"feranhit value is negative\")\n",
    "    else:\n",
    "        raise cutoffException\n",
    "except cutoffException:\n",
    "    print(\"Re-attempt\")"
   ]
  }
 ],
 "metadata": {
  "kernelspec": {
   "display_name": "Python 3",
   "language": "python",
   "name": "python3"
  },
  "language_info": {
   "codemirror_mode": {
    "name": "ipython",
    "version": 3
   },
   "file_extension": ".py",
   "mimetype": "text/x-python",
   "name": "python",
   "nbconvert_exporter": "python",
   "pygments_lexer": "ipython3",
   "version": "3.8.8"
  }
 },
 "nbformat": 4,
 "nbformat_minor": 5
}
